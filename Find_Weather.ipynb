{
 "cells": [
  {
   "cell_type": "markdown",
   "id": "2636cba9",
   "metadata": {},
   "source": [
    "__Find Weather__"
   ]
  },
  {
   "cell_type": "code",
   "execution_count": 1,
   "id": "7c672504",
   "metadata": {},
   "outputs": [],
   "source": [
    "import pandas as pd\n",
    "import requests\n",
    "import numpy as np\n",
    "import warnings\n",
    "warnings.filterwarnings(\"ignore\")\n",
    "from time import sleep"
   ]
  },
  {
   "cell_type": "code",
   "execution_count": 2,
   "id": "f804ab35",
   "metadata": {},
   "outputs": [
    {
     "name": "stdout",
     "output_type": "stream",
     "text": [
      "D:\\1 RA\\re_find_1104\\save\n"
     ]
    }
   ],
   "source": [
    "cd D:\\1 RA\\re_find_1104\\save"
   ]
  },
  {
   "cell_type": "code",
   "execution_count": 3,
   "id": "a7cb918a",
   "metadata": {},
   "outputs": [
    {
     "data": {
      "text/html": [
       "<div>\n",
       "<style scoped>\n",
       "    .dataframe tbody tr th:only-of-type {\n",
       "        vertical-align: middle;\n",
       "    }\n",
       "\n",
       "    .dataframe tbody tr th {\n",
       "        vertical-align: top;\n",
       "    }\n",
       "\n",
       "    .dataframe thead th {\n",
       "        text-align: right;\n",
       "    }\n",
       "</style>\n",
       "<table border=\"1\" class=\"dataframe\">\n",
       "  <thead>\n",
       "    <tr style=\"text-align: right;\">\n",
       "      <th></th>\n",
       "      <th>city</th>\n",
       "      <th>State</th>\n",
       "      <th>lat</th>\n",
       "      <th>lon</th>\n",
       "      <th>id_coordinate</th>\n",
       "    </tr>\n",
       "  </thead>\n",
       "  <tbody>\n",
       "    <tr>\n",
       "      <th>0</th>\n",
       "      <td>Achalpur</td>\n",
       "      <td>Maharashtra</td>\n",
       "      <td>21.2574</td>\n",
       "      <td>77.5092</td>\n",
       "      <td>1.0</td>\n",
       "    </tr>\n",
       "    <tr>\n",
       "      <th>1</th>\n",
       "      <td>Agra</td>\n",
       "      <td>Uttar Pradesh</td>\n",
       "      <td>27.1762</td>\n",
       "      <td>77.9800</td>\n",
       "      <td>2.0</td>\n",
       "    </tr>\n",
       "    <tr>\n",
       "      <th>2</th>\n",
       "      <td>Ahiri</td>\n",
       "      <td>Maharashtra</td>\n",
       "      <td>19.4129</td>\n",
       "      <td>80.0054</td>\n",
       "      <td>3.0</td>\n",
       "    </tr>\n",
       "    <tr>\n",
       "      <th>3</th>\n",
       "      <td>Ahmadabad</td>\n",
       "      <td>Gujarat</td>\n",
       "      <td>23.0202</td>\n",
       "      <td>72.5797</td>\n",
       "      <td>4.0</td>\n",
       "    </tr>\n",
       "    <tr>\n",
       "      <th>4</th>\n",
       "      <td>Ahmadnagar</td>\n",
       "      <td>Maharashtra</td>\n",
       "      <td>19.1103</td>\n",
       "      <td>74.7427</td>\n",
       "      <td>5.0</td>\n",
       "    </tr>\n",
       "    <tr>\n",
       "      <th>...</th>\n",
       "      <td>...</td>\n",
       "      <td>...</td>\n",
       "      <td>...</td>\n",
       "      <td>...</td>\n",
       "      <td>...</td>\n",
       "    </tr>\n",
       "    <tr>\n",
       "      <th>494</th>\n",
       "      <td>West Godavari</td>\n",
       "      <td>Andhra Pradesh</td>\n",
       "      <td>16.9838</td>\n",
       "      <td>81.3509</td>\n",
       "      <td>495.0</td>\n",
       "    </tr>\n",
       "    <tr>\n",
       "      <th>495</th>\n",
       "      <td>West Tripura</td>\n",
       "      <td>Tripura</td>\n",
       "      <td>23.9165</td>\n",
       "      <td>91.4139</td>\n",
       "      <td>496.0</td>\n",
       "    </tr>\n",
       "    <tr>\n",
       "      <th>496</th>\n",
       "      <td>Yamuna Nagar</td>\n",
       "      <td>Haryana</td>\n",
       "      <td>30.1322</td>\n",
       "      <td>77.2702</td>\n",
       "      <td>497.0</td>\n",
       "    </tr>\n",
       "    <tr>\n",
       "      <th>497</th>\n",
       "      <td>Yavatmal</td>\n",
       "      <td>Maharashtra</td>\n",
       "      <td>20.3884</td>\n",
       "      <td>78.1189</td>\n",
       "      <td>498.0</td>\n",
       "    </tr>\n",
       "    <tr>\n",
       "      <th>498</th>\n",
       "      <td>Yerraguntla</td>\n",
       "      <td>Andhra Pradesh</td>\n",
       "      <td>14.6453</td>\n",
       "      <td>78.5372</td>\n",
       "      <td>499.0</td>\n",
       "    </tr>\n",
       "  </tbody>\n",
       "</table>\n",
       "<p>499 rows × 5 columns</p>\n",
       "</div>"
      ],
      "text/plain": [
       "              city           State      lat      lon  id_coordinate\n",
       "0         Achalpur     Maharashtra  21.2574  77.5092            1.0\n",
       "1             Agra   Uttar Pradesh  27.1762  77.9800            2.0\n",
       "2            Ahiri     Maharashtra  19.4129  80.0054            3.0\n",
       "3        Ahmadabad         Gujarat  23.0202  72.5797            4.0\n",
       "4       Ahmadnagar     Maharashtra  19.1103  74.7427            5.0\n",
       "..             ...             ...      ...      ...            ...\n",
       "494  West Godavari  Andhra Pradesh  16.9838  81.3509          495.0\n",
       "495   West Tripura         Tripura  23.9165  91.4139          496.0\n",
       "496   Yamuna Nagar         Haryana  30.1322  77.2702          497.0\n",
       "497       Yavatmal     Maharashtra  20.3884  78.1189          498.0\n",
       "498    Yerraguntla  Andhra Pradesh  14.6453  78.5372          499.0\n",
       "\n",
       "[499 rows x 5 columns]"
      ]
     },
     "execution_count": 3,
     "metadata": {},
     "output_type": "execute_result"
    }
   ],
   "source": [
    "df = pd.read_stata(\"unique_coordnates.dta\")\n",
    "df"
   ]
  },
  {
   "cell_type": "markdown",
   "id": "7af4bf11",
   "metadata": {},
   "source": [
    "#### __Test__"
   ]
  },
  {
   "cell_type": "code",
   "execution_count": 56,
   "id": "4eb8e481",
   "metadata": {},
   "outputs": [],
   "source": [
    "url = \"https://power.larc.nasa.gov/api/temporal/daily/point?parameters=PRECTOTCORR,RH2M,CLOUD_OD,T2M,TS,T2M_RANGE,T2M_MAX,T2M_MIN,ALLSKY_KT&community=AG&longitude=118.1078&latitude=24.4715&start=20130101&end=20201231&format=CSV\"\n",
    "f = requests.get(url)"
   ]
  },
  {
   "cell_type": "code",
   "execution_count": 57,
   "id": "7237bb6d",
   "metadata": {},
   "outputs": [],
   "source": [
    "with open(\"1.csv\".format(), \"wb\") as file_content:\n",
    "     file_content.write(f.content)"
   ]
  },
  {
   "cell_type": "markdown",
   "id": "a5cb67b0",
   "metadata": {},
   "source": [
    "#### __Loop__"
   ]
  },
  {
   "cell_type": "code",
   "execution_count": 4,
   "id": "a92dabcd",
   "metadata": {},
   "outputs": [
    {
     "name": "stdout",
     "output_type": "stream",
     "text": [
      "D:\\1 RA\\re_find_1104\\save\\weather_get\n"
     ]
    }
   ],
   "source": [
    "cd D:\\1 RA\\re_find_1104\\save\\weather_get"
   ]
  },
  {
   "cell_type": "code",
   "execution_count": 5,
   "id": "19af68e7",
   "metadata": {},
   "outputs": [
    {
     "data": {
      "text/plain": [
       "499"
      ]
     },
     "execution_count": 5,
     "metadata": {},
     "output_type": "execute_result"
    }
   ],
   "source": [
    "num, _ = df.shape\n",
    "num"
   ]
  },
  {
   "cell_type": "code",
   "execution_count": 6,
   "id": "9d17f9cf",
   "metadata": {},
   "outputs": [],
   "source": [
    "url_empty =  \"https://power.larc.nasa.gov/api/temporal/daily/point?parameters=PRECTOTCORR,RH2M,CLOUD_OD,T2M,TS,T2M_RANGE,T2M_MAX,T2M_MIN,CLOUD_AMT&community=AG&longitude={}&latitude={}&start=20130101&end=20201231&format=CSV\""
   ]
  },
  {
   "cell_type": "code",
   "execution_count": 9,
   "id": "729e033d",
   "metadata": {},
   "outputs": [],
   "source": [
    "error_ls = []\n",
    "start = 18  # The max number within existing files' name"
   ]
  },
  {
   "cell_type": "code",
   "execution_count": 10,
   "id": "94162e62",
   "metadata": {},
   "outputs": [],
   "source": [
    "for i_ in range(start, num):\n",
    "    lat = df.iloc[i_, 2]\n",
    "    lon = df.iloc[i_, 3]\n",
    "    url_ = url_empty.format(lon, lat)\n",
    "    \n",
    "    try:\n",
    "        f = requests.get(url_)\n",
    "    except Exception:\n",
    "        print(\"Retry·············\")  # Alert\n",
    "        try:\n",
    "            sleep(9 + np.random.normal(loc=3.0, scale=1.2))\n",
    "            f = requests.get(url_)\n",
    "        except Exception:\n",
    "            error_ls.append(i_)\n",
    "            continue\n",
    "        else:\n",
    "            pass\n",
    "    else:\n",
    "        pass\n",
    "    \n",
    "\n",
    "    with open(\"{}.csv\".format(i_ + 1), \"wb\") as file_content:\n",
    "        file_content.write(f.content)\n",
    "            \n",
    "    with open(\"{}.csv\".format(1), \"r\") as test:\n",
    "        c = test.read()\n",
    "        \n",
    "    if c == \"<html><body><h1>408 Request Time-out</h1>\\nYour browser didn't send a complete request in time.\\n</body></html>\\n\":\n",
    "        print(\"Retry·············\")  # Alert\n",
    "        try:\n",
    "            f = requests.get(url_)\n",
    "        except Exception:\n",
    "            error_ls.append(i_)\n",
    "            continue\n",
    "        else:\n",
    "            with open(\"{}.csv\".format(i_ + 1), \"wb\") as file_content:\n",
    "                file_content.write(f.content)\n",
    "            \n",
    "            \n",
    "    sleep(20 + np.random.normal(loc=.0, scale=1.2))\n",
    "    "
   ]
  },
  {
   "cell_type": "code",
   "execution_count": 42,
   "id": "c6d70cff",
   "metadata": {},
   "outputs": [],
   "source": []
  },
  {
   "cell_type": "code",
   "execution_count": null,
   "id": "86511377",
   "metadata": {},
   "outputs": [],
   "source": []
  }
 ],
 "metadata": {
  "kernelspec": {
   "display_name": "Python 3",
   "language": "python",
   "name": "python3"
  },
  "language_info": {
   "codemirror_mode": {
    "name": "ipython",
    "version": 3
   },
   "file_extension": ".py",
   "mimetype": "text/x-python",
   "name": "python",
   "nbconvert_exporter": "python",
   "pygments_lexer": "ipython3",
   "version": "3.8.8"
  },
  "toc": {
   "base_numbering": 1,
   "nav_menu": {},
   "number_sections": true,
   "sideBar": true,
   "skip_h1_title": false,
   "title_cell": "Table of Contents",
   "title_sidebar": "Contents",
   "toc_cell": false,
   "toc_position": {},
   "toc_section_display": true,
   "toc_window_display": false
  },
  "varInspector": {
   "cols": {
    "lenName": 16,
    "lenType": 16,
    "lenVar": 40
   },
   "kernels_config": {
    "python": {
     "delete_cmd_postfix": "",
     "delete_cmd_prefix": "del ",
     "library": "var_list.py",
     "varRefreshCmd": "print(var_dic_list())"
    },
    "r": {
     "delete_cmd_postfix": ") ",
     "delete_cmd_prefix": "rm(",
     "library": "var_list.r",
     "varRefreshCmd": "cat(var_dic_list()) "
    }
   },
   "position": {
    "height": "492.708px",
    "left": "249.814px",
    "right": "20px",
    "top": "84.9901px",
    "width": "799.985px"
   },
   "types_to_exclude": [
    "module",
    "function",
    "builtin_function_or_method",
    "instance",
    "_Feature"
   ],
   "window_display": false
  }
 },
 "nbformat": 4,
 "nbformat_minor": 5
}
